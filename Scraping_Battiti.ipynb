{
  "nbformat": 4,
  "nbformat_minor": 5,
  "metadata": {
    "kernelspec": {
      "display_name": "Python 3",
      "language": "python",
      "name": "python3"
    },
    "language_info": {
      "codemirror_mode": {
        "name": "ipython",
        "version": 3
      },
      "file_extension": ".py",
      "mimetype": "text/x-python",
      "name": "python",
      "nbconvert_exporter": "python",
      "pygments_lexer": "ipython3",
      "version": "3.8.8"
    },
    "colab": {
      "name": "Scraping Battiti.ipynb",
      "provenance": [],
      "collapsed_sections": [],
      "include_colab_link": true
    },
    "accelerator": "GPU"
  },
  "cells": [
    {
      "cell_type": "markdown",
      "metadata": {
        "id": "view-in-github",
        "colab_type": "text"
      },
      "source": [
        "<a href=\"https://colab.research.google.com/github/stefanoduri/Opendata_sanita/blob/master/Scraping_Battiti.ipynb\" target=\"_parent\"><img src=\"https://colab.research.google.com/assets/colab-badge.svg\" alt=\"Open In Colab\"/></a>"
      ]
    },
    {
      "cell_type": "markdown",
      "metadata": {
        "id": "adjacent-treat"
      },
      "source": [
        ""
      ],
      "id": "adjacent-treat"
    },
    {
      "cell_type": "code",
      "metadata": {
        "id": "WC8lgnjXTJ_c"
      },
      "source": [
        "# SETUP DI SELENIUM\n",
        "!pip install selenium\n",
        "!apt-get update\n",
        "!apt install chromium-chromedriver\n",
        "#!cp /usr/lib/chromium-browser/chromedriver /usr/bin\n",
        "#import sys\n",
        "#sys.path.insert(0,'/usr/lib/chromium-browser/chromedriver')\n",
        "!pip install python3-discogs-client\n"
      ],
      "id": "WC8lgnjXTJ_c",
      "execution_count": null,
      "outputs": []
    },
    {
      "cell_type": "code",
      "metadata": {
        "id": "cODfYic_DE-c"
      },
      "source": [
        "# SETUP DI SELENIUM\n",
        "\n",
        "#set options to be headless\n",
        "from selenium import webdriver\n",
        "chrome_options = webdriver.ChromeOptions()\n",
        "chrome_options.add_argument('--headless')\n",
        "chrome_options.add_argument('--no-sandbox')\n",
        "chrome_options.add_argument('--disable-dev-shm-usage')\n",
        "\n",
        "from selenium.webdriver.common.keys import Keys\n",
        "from selenium.webdriver.common.by import By\n",
        "from selenium.webdriver.support.select import Select\n",
        "from selenium.webdriver.common.action_chains import ActionChains\n",
        "from selenium.webdriver.support.ui import WebDriverWait\n",
        "from selenium.webdriver.support import expected_conditions as EC\n",
        "\n"
      ],
      "id": "cODfYic_DE-c",
      "execution_count": null,
      "outputs": []
    },
    {
      "cell_type": "code",
      "metadata": {
        "id": "H6-DVslT3po8"
      },
      "source": [
        "from bs4 import BeautifulSoup as bs\n",
        "import requests\n",
        "import pandas as pd\n",
        "import re\n",
        "import html\n",
        "from datetime import datetime\n",
        "import discogs_client\n",
        "import time\n",
        "\n"
      ],
      "id": "H6-DVslT3po8",
      "execution_count": null,
      "outputs": []
    },
    {
      "cell_type": "code",
      "metadata": {
        "id": "oOA59Me3vgi2"
      },
      "source": [
        "from google.colab import drive\n",
        "drive.mount('/content/drive')"
      ],
      "id": "oOA59Me3vgi2",
      "execution_count": null,
      "outputs": []
    },
    {
      "cell_type": "markdown",
      "metadata": {
        "id": "85zZ3wqtF0Mf"
      },
      "source": [
        "### Lettura dei dati dei podcast"
      ],
      "id": "85zZ3wqtF0Mf"
    },
    {
      "cell_type": "code",
      "metadata": {
        "id": "Y2QQ-sHGvtyG"
      },
      "source": [
        "brani_file = \"/content/drive/MyDrive/Colab Notebooks/output/Battiti/brani.csv\"\n",
        "puntate_file = \"/content/drive/MyDrive/Colab Notebooks/output/Battiti/puntate.csv\"\n",
        "artisti_file = \"/content/drive/MyDrive/Colab Notebooks/output/Battiti/artisti.csv\""
      ],
      "id": "Y2QQ-sHGvtyG",
      "execution_count": null,
      "outputs": []
    },
    {
      "cell_type": "code",
      "metadata": {
        "id": "46lrTL70143s"
      },
      "source": [
        "# lettura brani per individuare max data\n",
        "dateparse = lambda x: datetime.strptime(x, '%d/%m/%Y')\n",
        "\n",
        "brani = pd.read_csv(brani_file, sep=\"\\t\")\n",
        "puntate = pd.read_csv(puntate_file, sep=\"\\t\",parse_dates=[\"date\"], date_parser=dateparse)\n",
        "max_date = puntate.date.max().strftime(\"%Y%m%d\")\n",
        "\n",
        "\n",
        "print(max_date)\n"
      ],
      "id": "46lrTL70143s",
      "execution_count": null,
      "outputs": []
    },
    {
      "cell_type": "code",
      "metadata": {
        "id": "oraVz2rRECvH"
      },
      "source": [
        "podcasts = pd.DataFrame(columns = ['date', 'puntata', 'url'])\n",
        "baseUrl =\"https://www.raiplayradio.it/programmi/battiti/archivio/puntate/2021--a25f2341-c42a-4cc2-98c1-329375b9908d/\"\n",
        "page = 1\n",
        "\n",
        "driver = webdriver.Chrome('chromedriver',options=chrome_options)\n",
        "driver.implicitly_wait(2)\n",
        "driver.get(f\"{baseUrl}{page}\")\n",
        "driver.maximize_window()\n",
        "\n",
        "# accetta cookies\n",
        "try:\n",
        "    WebDriverWait(driver,10).until(\n",
        "        EC.presence_of_element_located((By.XPATH, \"//button[@data-context='YES']\"))\n",
        "    )\n",
        "    acceptCookies = driver.find_element_by_xpath(\"//button[@data-context='YES']\")\n",
        "    print(acceptCookies.text)\n",
        "    actions = ActionChains(driver)\n",
        "    actions.move_to_element(acceptCookies)\n",
        "    actions.click(acceptCookies)\n",
        "    actions.perform()\n",
        "except Exception as e:\n",
        "    print(\"Err \"+str(e))\n"
      ],
      "id": "oraVz2rRECvH",
      "execution_count": null,
      "outputs": []
    },
    {
      "cell_type": "code",
      "metadata": {
        "id": "XsZO6355HX-_"
      },
      "source": [
        "print(driver.current_url)"
      ],
      "id": "XsZO6355HX-_",
      "execution_count": null,
      "outputs": []
    },
    {
      "cell_type": "code",
      "metadata": {
        "id": "PSjvbzULbDaW"
      },
      "source": [
        "new = True    \n",
        "while new == True:\n",
        "    try:          \n",
        "        podcastsEl = WebDriverWait(driver,10).until(\n",
        "            EC.presence_of_all_elements_located((By.XPATH, \"//div[@class='columns large-expand medium-expand small-12']\"))\n",
        "        )\n",
        "        #print(\"---\",podcastsEl)\n",
        "        \n",
        "        for e in podcastsEl:\n",
        "            p = {}\n",
        "            p['date'] = e.find_element_by_tag_name(\"span\").text\n",
        "            serialDate = p['date'][-4:]+p['date'][3:5]+p['date'][0:2]\n",
        "            print(serialDate)\n",
        "            if serialDate <= max_date:\n",
        "              new = False\n",
        "              break\n",
        "            else:\n",
        "              p['url'] = e.find_element_by_tag_name(\"a\").get_attribute(\"href\")\n",
        "              p['puntata'] = e.find_element_by_tag_name(\"a\").text\n",
        "              podcasts = podcasts.append(p, ignore_index=True)\n",
        "        if new:\n",
        "          page+=1\n",
        "          time.sleep(1)\n",
        "          driver.get(f\"{baseUrl}{page}\")\n",
        "    except Exception as e:\n",
        "        print(\"Err 2 - \"+str(e))\n",
        "        break\n",
        "print(podcasts.describe())\n"
      ],
      "id": "PSjvbzULbDaW",
      "execution_count": null,
      "outputs": []
    },
    {
      "cell_type": "markdown",
      "metadata": {
        "id": "tr7mHthCF8KG"
      },
      "source": [
        "### Lettura dei singoli podcast"
      ],
      "id": "tr7mHthCF8KG"
    },
    {
      "cell_type": "code",
      "metadata": {
        "id": "FSzDM2_MFbPx"
      },
      "source": [
        "tracks = pd.DataFrame()\n",
        "i=0\n",
        "for index, p in podcasts.iterrows():\n",
        "    driver.get(p['url'])\n",
        "    print(p['date'])\n",
        "    try:\n",
        "      htmlList = driver.find_element_by_class_name(\"aodHtmlDescription\").\\\n",
        "          get_property(\"innerHTML\").split('<br>')\n",
        "      htmlList = [re.sub(\"\\n\",\"\",html.unescape(x)).strip() for x in htmlList]\n",
        "    except Exception as e:\n",
        "      print(\"Errore lettura htmlList \"+e)\n",
        "      continue\n",
        "    #print(htmlList)\n",
        "    track = p\n",
        "    for trackData in htmlList:\n",
        "        trackData = re.sub('[“”\"]','',trackData)\n",
        "        try:\n",
        "            trackDataParts = re.split(\", *da *?\", trackData)\n",
        "            match = re.match('^([^,]+?),\\s*(.+?)$', trackDataParts[0].strip())\n",
        "            track['artist'] = match[1]\n",
        "            track['track'] = match[2]\n",
        "            \n",
        "            album = re.split(\"[-–]\", trackDataParts[1])\n",
        "            track['album'] = album[0].strip()\n",
        "            track['label'] = album[1].strip()\n",
        "            tracks = tracks.append(track, ignore_index=True)\n",
        "            #print(\"tipo 1\", trackData)\n",
        "            \n",
        "        except:\n",
        "            try:\n",
        "                trackDataParts = re.split(\"',\\s*'\", trackData)\n",
        "                trackDataParts[0] = re.sub(\"'\", \"\", trackDataParts[0].strip())\n",
        "                trackDataParts[1] = re.sub(\"'\", \"\", trackDataParts[1].strip())\n",
        "                \n",
        "                match = re.match('^([^,]+?),\\s*(.+?)$', trackDataParts[0])\n",
        "                track['artist'] = match[1].strip()\n",
        "                track['track'] = match[2].strip()\n",
        "\n",
        "                album = re.split(\"[-–]\", trackDataParts[1])\n",
        "                track['album'] = album[0].strip()\n",
        "                track['label'] = album[1].strip()\n",
        "                tracks = tracks.append(track, ignore_index=True)\n",
        "                print(track)\n",
        "            except:\n",
        "                print(trackData)\n",
        "                continue"
      ],
      "id": "FSzDM2_MFbPx",
      "execution_count": null,
      "outputs": []
    },
    {
      "cell_type": "code",
      "metadata": {
        "id": "zKbZKEEjWIwt"
      },
      "source": [
        "driver.quit()\n",
        "print(tracks.describe())"
      ],
      "id": "zKbZKEEjWIwt",
      "execution_count": null,
      "outputs": []
    },
    {
      "cell_type": "markdown",
      "metadata": {
        "id": "RSaKCsJoGCtP"
      },
      "source": [
        "### Salvataggio dati"
      ],
      "id": "RSaKCsJoGCtP"
    },
    {
      "cell_type": "code",
      "metadata": {
        "id": "mGk51vQqZWZ6"
      },
      "source": [
        "brani = pd.concat([brani, tracks[[\"artist\", \"album\",\"track\",\"label\",\"puntata\"]]],ignore_index=True)\n",
        "brani.to_csv(brani_file, sep=\"\\t\", index=False, encoding=\"utf-8\")\n"
      ],
      "id": "mGk51vQqZWZ6",
      "execution_count": null,
      "outputs": []
    },
    {
      "cell_type": "code",
      "metadata": {
        "id": "Bj9jqSVISdmI"
      },
      "source": [
        "# rilettura di puntate senza date parsing\n",
        "puntate = pd.read_csv(puntate_file, sep=\"\\t\")\n",
        "nuove_puntate = tracks[[\"date\",\"puntata\",\"url\"]].drop_duplicates([\"date\",\"puntata\",\"url\"], ignore_index=True)\n",
        "puntate = pd.concat([puntate, nuove_puntate],ignore_index=True)\n",
        "puntate.to_csv(puntate_file, sep=\"\\t\", index=False, encoding=\"utf-8\")\n",
        "# N.B. salta le puntate nelle quali non è stato riconosciuto nessun brano"
      ],
      "id": "Bj9jqSVISdmI",
      "execution_count": null,
      "outputs": []
    },
    {
      "cell_type": "markdown",
      "metadata": {
        "id": "EqxZ40cDvDle"
      },
      "source": [
        "### Url degli artisti"
      ],
      "id": "EqxZ40cDvDle"
    },
    {
      "cell_type": "code",
      "metadata": {
        "id": "HSqKY7d8Dvmw"
      },
      "source": [
        "artisti_salvati = pd.read_csv(artisti_file, sep=\"\\t\")\n",
        "artisti_in_brani = brani[[\"artist\"]].drop_duplicates([\"artist\"])\n",
        "artisti_in_brani = artisti_in_brani[~artisti_in_brani[\"artist\"].isin(artisti_salvati[\"artist\"])]\n",
        "artisti_in_brani[\"profile\"] = \"\"\n",
        "artisti_in_brani.head()"
      ],
      "id": "HSqKY7d8Dvmw",
      "execution_count": null,
      "outputs": []
    },
    {
      "cell_type": "code",
      "metadata": {
        "id": "wHoFyMvfXHth"
      },
      "source": [
        "token = \"qdZnxTKUKteXowuZeBjmiIbgaupgOrThxwEzuunM\"\n",
        "d = discogs_client.Client('ExampleApplication/0.1', user_token=token)"
      ],
      "id": "wHoFyMvfXHth",
      "execution_count": null,
      "outputs": []
    },
    {
      "cell_type": "code",
      "metadata": {
        "id": "MyLWjgHFuz_I"
      },
      "source": [
        "for i, r in artisti_in_brani.iterrows():\n",
        "  \n",
        "  results = d.search(r.artist, type='artist')\n",
        "  time.sleep(1)\n",
        "\n",
        "  if results:\n",
        "    r[\"profile\"] = \"https://www.discogs.com/en\"+results.page(0)[0].url+\"?lang_alt=en\"\n",
        "    print(f\"{r.artist} {r.profile}\")\n",
        "    "
      ],
      "id": "MyLWjgHFuz_I",
      "execution_count": null,
      "outputs": []
    },
    {
      "cell_type": "code",
      "metadata": {
        "id": "LATQV8AkwuIP"
      },
      "source": [
        "artisti_in_brani = pd.concat([artisti_salvati, artisti_in_brani], ignore_index=True)"
      ],
      "id": "LATQV8AkwuIP",
      "execution_count": null,
      "outputs": []
    },
    {
      "cell_type": "code",
      "metadata": {
        "id": "tBxBe6i8IUy4"
      },
      "source": [
        "mancanti = artisti_in_brani.query(\"profile==''\")\n",
        "print(mancanti.describe())\n",
        "da_cercare = pd.DataFrame(columns=mancanti.columns)\n",
        "delim = '\\s*\\/\\s*| WITH | with | \\& |\\s*\\+\\s*'\n",
        "\n",
        "for i,r in mancanti.iterrows():\n",
        "  split_artist = list(map(lambda x:x.strip(),re.split(delim, r[\"artist\"])))\n",
        "  if len(split_artist) > 1:\n",
        "    for a in split_artist:\n",
        "        if artisti_in_brani.query(f\"artist=='{a}'\").empty:\n",
        "          results = d.search(a, type='artist')\n",
        "          time.sleep(1)\n",
        "\n",
        "          if results:\n",
        "            new = {}\n",
        "            new[\"artist\"] = a\n",
        "            new[\"profile\"] = \"https://www.discogs.com/en\"+results.page(0)[0].url+\"?lang_alt=en\"\n",
        "            artisti_in_brani = artisti_in_brani.append(new,ignore_index=True)\n",
        "            print(f\"{new['artist']} {new['profile']}\")"
      ],
      "id": "tBxBe6i8IUy4",
      "execution_count": null,
      "outputs": []
    },
    {
      "cell_type": "code",
      "metadata": {
        "id": "t7PL9JNnanBZ"
      },
      "source": [
        "print(len(artisti_in_brani))\n",
        "artists_with_profile = artisti_in_brani.query(\"profile>''\")\n",
        "print(len(artists_with_profile))\n",
        "artists_with_profile.to_csv(artisti_file, sep=\"\\t\", index=False, encoding=\"utf-8\")\n"
      ],
      "id": "t7PL9JNnanBZ",
      "execution_count": null,
      "outputs": []
    }
  ]
}